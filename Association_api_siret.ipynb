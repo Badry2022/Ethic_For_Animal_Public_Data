{
  "cells": [
    {
      "cell_type": "markdown",
      "metadata": {
        "id": "view-in-github",
        "colab_type": "text"
      },
      "source": [
        "<a href=\"https://colab.research.google.com/github/rashaBadry/Ethic_For_Animal_Public_Data/blob/main/Association_api_siret.ipynb\" target=\"_parent\"><img src=\"https://colab.research.google.com/assets/colab-badge.svg\" alt=\"Open In Colab\"/></a>"
      ]
    },
    {
      "cell_type": "markdown",
      "metadata": {
        "id": "-ot-EDDIMe5d"
      },
      "source": [
        "# Tâche 1  \n",
        "Enrichir le fichier des associations de protection animale avec:  \n",
        " SIRET, date de création, Téléphone et Adresse Email. \n",
        "\n",
        " Deux sites à dispositions:\n",
        " Dataasso : https://www.data-asso.fr/donnees Il s'agit là d'un premier fichier qui devrait aider grandement.\n",
        " \n",
        "la base SIRENE : https://www.data.gouv.fr/fr/datasets/base-sirene-des-entreprises-et-de-leurs-etablissements-siren-siret/\n",
        "\n",
        "UTIL :\n",
        "https://entreprise.data.gouv.fr/api_doc/sirene"
      ]
    },
    {
      "cell_type": "code",
      "execution_count": null,
      "metadata": {
        "id": "ccB4BJS0IUyq"
      },
      "outputs": [],
      "source": [
        "from google.colab import files\n",
        "import io\n",
        "import pandas as pd\n",
        "import requests\n"
      ]
    },
    {
      "cell_type": "code",
      "execution_count": null,
      "metadata": {
        "colab": {
          "base_uri": "https://localhost:8080/",
          "height": 73,
          "resources": {
            "http://localhost:8080/nbextensions/google.colab/files.js": {
              "data": "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",
              "headers": [
                [
                  "content-type",
                  "application/javascript"
                ]
              ],
              "ok": true,
              "status": 200,
              "status_text": ""
            }
          }
        },
        "id": "Af6uanuCLNHJ",
        "outputId": "b981b9d4-1a7c-4f41-ea3d-3e673973f815"
      },
      "outputs": [
        {
          "data": {
            "text/html": [
              "\n",
              "     <input type=\"file\" id=\"files-69430030-17aa-4d76-be07-5c24314c9b55\" name=\"files[]\" multiple disabled\n",
              "        style=\"border:none\" />\n",
              "     <output id=\"result-69430030-17aa-4d76-be07-5c24314c9b55\">\n",
              "      Upload widget is only available when the cell has been executed in the\n",
              "      current browser session. Please rerun this cell to enable.\n",
              "      </output>\n",
              "      <script src=\"/nbextensions/google.colab/files.js\"></script> "
            ],
            "text/plain": [
              "<IPython.core.display.HTML object>"
            ]
          },
          "metadata": {},
          "output_type": "display_data"
        },
        {
          "name": "stdout",
          "output_type": "stream",
          "text": [
            "Saving EFA-3.xlsx to EFA-3.xlsx\n"
          ]
        }
      ],
      "source": [
        "uploaded = files.upload()\n"
      ]
    },
    {
      "cell_type": "code",
      "execution_count": null,
      "metadata": {
        "id": "_NWyCb3lFyy8"
      },
      "outputs": [],
      "source": [
        "!ls"
      ]
    },
    {
      "cell_type": "code",
      "execution_count": null,
      "metadata": {
        "id": "DgH5yGTEAkg2"
      },
      "outputs": [],
      "source": [
        "df = pd.read_excel(io.BytesIO(uploaded['EFA-3.xlsx']))"
      ]
    },
    {
      "cell_type": "code",
      "execution_count": null,
      "metadata": {
        "colab": {
          "base_uri": "https://localhost:8080/",
          "height": 612
        },
        "id": "yMgYUvZoLziF",
        "outputId": "434b8ee2-5c93-4456-fb5a-43bf33c708c2"
      },
      "outputs": [
        {
          "data": {
            "text/html": [
              "\n",
              "  <div id=\"df-bdf1d461-1163-406d-8510-d018b7066d84\">\n",
              "    <div class=\"colab-df-container\">\n",
              "      <div>\n",
              "<style scoped>\n",
              "    .dataframe tbody tr th:only-of-type {\n",
              "        vertical-align: middle;\n",
              "    }\n",
              "\n",
              "    .dataframe tbody tr th {\n",
              "        vertical-align: top;\n",
              "    }\n",
              "\n",
              "    .dataframe thead th {\n",
              "        text-align: right;\n",
              "    }\n",
              "</style>\n",
              "<table border=\"1\" class=\"dataframe\">\n",
              "  <thead>\n",
              "    <tr style=\"text-align: right;\">\n",
              "      <th></th>\n",
              "      <th>N° SIRET</th>\n",
              "      <th>N° RNA</th>\n",
              "      <th>Nom de l'association</th>\n",
              "      <th>Adresse de l'association</th>\n",
              "      <th>Code Postal</th>\n",
              "      <th>Ville</th>\n",
              "      <th>Date de création de l'association</th>\n",
              "      <th>Objet social de l'association</th>\n",
              "      <th>Effectif de l'association (nombre de salariés)</th>\n",
              "      <th>Montant des subventions 2021</th>\n",
              "      <th>...</th>\n",
              "      <th>Montant des recettes 2021</th>\n",
              "      <th>Montant des dépenses 2021</th>\n",
              "      <th>Montant des recettes 2020</th>\n",
              "      <th>Montant des dépenses 2020</th>\n",
              "      <th>Montant des recettes 2019</th>\n",
              "      <th>Montant des dépenses 2019</th>\n",
              "      <th>Déficit / Excédent budgétaire 2021</th>\n",
              "      <th>Déficit / Excédent budgétaire 2020</th>\n",
              "      <th>Déficit / Excédent budgétaire 2019</th>\n",
              "      <th>Déficit / Excédent budgétaire 2018</th>\n",
              "    </tr>\n",
              "  </thead>\n",
              "  <tbody>\n",
              "    <tr>\n",
              "      <th>0</th>\n",
              "      <td>NaN</td>\n",
              "      <td>W502003369</td>\n",
              "      <td>ASSOCIATION DE PROTECTION DES CHATS DE LA HAGUE</td>\n",
              "      <td>NaN</td>\n",
              "      <td>50440.0</td>\n",
              "      <td>Auderville</td>\n",
              "      <td>1995-01-24 00:00:00</td>\n",
              "      <td>NaN</td>\n",
              "      <td>NaN</td>\n",
              "      <td>NaN</td>\n",
              "      <td>...</td>\n",
              "      <td>NaN</td>\n",
              "      <td>NaN</td>\n",
              "      <td>NaN</td>\n",
              "      <td>NaN</td>\n",
              "      <td>NaN</td>\n",
              "      <td>NaN</td>\n",
              "      <td>NaN</td>\n",
              "      <td>NaN</td>\n",
              "      <td>NaN</td>\n",
              "      <td>NaN</td>\n",
              "    </tr>\n",
              "    <tr>\n",
              "      <th>1</th>\n",
              "      <td>NaN</td>\n",
              "      <td>922P9963</td>\n",
              "      <td>CHAT CASCHES</td>\n",
              "      <td>403 avenue de la République</td>\n",
              "      <td>92000.0</td>\n",
              "      <td>NaN</td>\n",
              "      <td>0001-01-01</td>\n",
              "      <td>des actions concernant la production, l'alimen...</td>\n",
              "      <td>NaN</td>\n",
              "      <td>NaN</td>\n",
              "      <td>...</td>\n",
              "      <td>NaN</td>\n",
              "      <td>NaN</td>\n",
              "      <td>NaN</td>\n",
              "      <td>NaN</td>\n",
              "      <td>NaN</td>\n",
              "      <td>NaN</td>\n",
              "      <td>NaN</td>\n",
              "      <td>NaN</td>\n",
              "      <td>NaN</td>\n",
              "      <td>NaN</td>\n",
              "    </tr>\n",
              "    <tr>\n",
              "      <th>2</th>\n",
              "      <td>NaN</td>\n",
              "      <td>W133025436</td>\n",
              "      <td>LESPERANCE A VOL DOISEAUX EVO</td>\n",
              "      <td>11 RUE BRAVET</td>\n",
              "      <td>NaN</td>\n",
              "      <td>Marseille</td>\n",
              "      <td>2004-09-21 00:00:00</td>\n",
              "      <td>contribuer à la gestion et à la protection de ...</td>\n",
              "      <td>NaN</td>\n",
              "      <td>NaN</td>\n",
              "      <td>...</td>\n",
              "      <td>NaN</td>\n",
              "      <td>NaN</td>\n",
              "      <td>NaN</td>\n",
              "      <td>NaN</td>\n",
              "      <td>NaN</td>\n",
              "      <td>NaN</td>\n",
              "      <td>NaN</td>\n",
              "      <td>NaN</td>\n",
              "      <td>NaN</td>\n",
              "      <td>NaN</td>\n",
              "    </tr>\n",
              "    <tr>\n",
              "      <th>3</th>\n",
              "      <td>NaN</td>\n",
              "      <td>W9T1003734</td>\n",
              "      <td>LES MOUSTACHES DE LHIPPOCAMPE</td>\n",
              "      <td>18 E RUE M HOGONI</td>\n",
              "      <td>97615.0</td>\n",
              "      <td>Pamandzi</td>\n",
              "      <td>2018-10-10 00:00:00</td>\n",
              "      <td>promouvoir la stérilisation des chats des rues...</td>\n",
              "      <td>NaN</td>\n",
              "      <td>NaN</td>\n",
              "      <td>...</td>\n",
              "      <td>NaN</td>\n",
              "      <td>NaN</td>\n",
              "      <td>NaN</td>\n",
              "      <td>NaN</td>\n",
              "      <td>NaN</td>\n",
              "      <td>NaN</td>\n",
              "      <td>NaN</td>\n",
              "      <td>NaN</td>\n",
              "      <td>NaN</td>\n",
              "      <td>NaN</td>\n",
              "    </tr>\n",
              "    <tr>\n",
              "      <th>4</th>\n",
              "      <td>NaN</td>\n",
              "      <td>W131016042</td>\n",
              "      <td>DÉFENSE ET DIGNITÉ ANIMALES</td>\n",
              "      <td>5 BIS RUE ALPHONSE DAUDET</td>\n",
              "      <td>NaN</td>\n",
              "      <td>Aix-en-Provence</td>\n",
              "      <td>2019-10-15 00:00:00</td>\n",
              "      <td>intervenir pénalement dans les dossiers de cru...</td>\n",
              "      <td>NaN</td>\n",
              "      <td>NaN</td>\n",
              "      <td>...</td>\n",
              "      <td>NaN</td>\n",
              "      <td>NaN</td>\n",
              "      <td>NaN</td>\n",
              "      <td>NaN</td>\n",
              "      <td>NaN</td>\n",
              "      <td>NaN</td>\n",
              "      <td>NaN</td>\n",
              "      <td>NaN</td>\n",
              "      <td>NaN</td>\n",
              "      <td>NaN</td>\n",
              "    </tr>\n",
              "  </tbody>\n",
              "</table>\n",
              "<p>5 rows × 23 columns</p>\n",
              "</div>\n",
              "      <button class=\"colab-df-convert\" onclick=\"convertToInteractive('df-bdf1d461-1163-406d-8510-d018b7066d84')\"\n",
              "              title=\"Convert this dataframe to an interactive table.\"\n",
              "              style=\"display:none;\">\n",
              "        \n",
              "  <svg xmlns=\"http://www.w3.org/2000/svg\" height=\"24px\"viewBox=\"0 0 24 24\"\n",
              "       width=\"24px\">\n",
              "    <path d=\"M0 0h24v24H0V0z\" fill=\"none\"/>\n",
              "    <path d=\"M18.56 5.44l.94 2.06.94-2.06 2.06-.94-2.06-.94-.94-2.06-.94 2.06-2.06.94zm-11 1L8.5 8.5l.94-2.06 2.06-.94-2.06-.94L8.5 2.5l-.94 2.06-2.06.94zm10 10l.94 2.06.94-2.06 2.06-.94-2.06-.94-.94-2.06-.94 2.06-2.06.94z\"/><path d=\"M17.41 7.96l-1.37-1.37c-.4-.4-.92-.59-1.43-.59-.52 0-1.04.2-1.43.59L10.3 9.45l-7.72 7.72c-.78.78-.78 2.05 0 2.83L4 21.41c.39.39.9.59 1.41.59.51 0 1.02-.2 1.41-.59l7.78-7.78 2.81-2.81c.8-.78.8-2.07 0-2.86zM5.41 20L4 18.59l7.72-7.72 1.47 1.35L5.41 20z\"/>\n",
              "  </svg>\n",
              "      </button>\n",
              "      \n",
              "  <style>\n",
              "    .colab-df-container {\n",
              "      display:flex;\n",
              "      flex-wrap:wrap;\n",
              "      gap: 12px;\n",
              "    }\n",
              "\n",
              "    .colab-df-convert {\n",
              "      background-color: #E8F0FE;\n",
              "      border: none;\n",
              "      border-radius: 50%;\n",
              "      cursor: pointer;\n",
              "      display: none;\n",
              "      fill: #1967D2;\n",
              "      height: 32px;\n",
              "      padding: 0 0 0 0;\n",
              "      width: 32px;\n",
              "    }\n",
              "\n",
              "    .colab-df-convert:hover {\n",
              "      background-color: #E2EBFA;\n",
              "      box-shadow: 0px 1px 2px rgba(60, 64, 67, 0.3), 0px 1px 3px 1px rgba(60, 64, 67, 0.15);\n",
              "      fill: #174EA6;\n",
              "    }\n",
              "\n",
              "    [theme=dark] .colab-df-convert {\n",
              "      background-color: #3B4455;\n",
              "      fill: #D2E3FC;\n",
              "    }\n",
              "\n",
              "    [theme=dark] .colab-df-convert:hover {\n",
              "      background-color: #434B5C;\n",
              "      box-shadow: 0px 1px 3px 1px rgba(0, 0, 0, 0.15);\n",
              "      filter: drop-shadow(0px 1px 2px rgba(0, 0, 0, 0.3));\n",
              "      fill: #FFFFFF;\n",
              "    }\n",
              "  </style>\n",
              "\n",
              "      <script>\n",
              "        const buttonEl =\n",
              "          document.querySelector('#df-bdf1d461-1163-406d-8510-d018b7066d84 button.colab-df-convert');\n",
              "        buttonEl.style.display =\n",
              "          google.colab.kernel.accessAllowed ? 'block' : 'none';\n",
              "\n",
              "        async function convertToInteractive(key) {\n",
              "          const element = document.querySelector('#df-bdf1d461-1163-406d-8510-d018b7066d84');\n",
              "          const dataTable =\n",
              "            await google.colab.kernel.invokeFunction('convertToInteractive',\n",
              "                                                     [key], {});\n",
              "          if (!dataTable) return;\n",
              "\n",
              "          const docLinkHtml = 'Like what you see? Visit the ' +\n",
              "            '<a target=\"_blank\" href=https://colab.research.google.com/notebooks/data_table.ipynb>data table notebook</a>'\n",
              "            + ' to learn more about interactive tables.';\n",
              "          element.innerHTML = '';\n",
              "          dataTable['output_type'] = 'display_data';\n",
              "          await google.colab.output.renderOutput(dataTable, element);\n",
              "          const docLink = document.createElement('div');\n",
              "          docLink.innerHTML = docLinkHtml;\n",
              "          element.appendChild(docLink);\n",
              "        }\n",
              "      </script>\n",
              "    </div>\n",
              "  </div>\n",
              "  "
            ],
            "text/plain": [
              "   N° SIRET      N° RNA                             Nom de l'association  \\\n",
              "0       NaN  W502003369  ASSOCIATION DE PROTECTION DES CHATS DE LA HAGUE   \n",
              "1       NaN    922P9963                                     CHAT CASCHES   \n",
              "2       NaN  W133025436                    LESPERANCE A VOL DOISEAUX EVO   \n",
              "3       NaN  W9T1003734                    LES MOUSTACHES DE LHIPPOCAMPE   \n",
              "4       NaN  W131016042                      DÉFENSE ET DIGNITÉ ANIMALES   \n",
              "\n",
              "      Adresse de l'association  Code Postal            Ville  \\\n",
              "0                          NaN      50440.0       Auderville   \n",
              "1  403 avenue de la République      92000.0              NaN   \n",
              "2                11 RUE BRAVET          NaN        Marseille   \n",
              "3            18 E RUE M HOGONI      97615.0         Pamandzi   \n",
              "4    5 BIS RUE ALPHONSE DAUDET          NaN  Aix-en-Provence   \n",
              "\n",
              "  Date de création de l'association  \\\n",
              "0               1995-01-24 00:00:00   \n",
              "1                        0001-01-01   \n",
              "2               2004-09-21 00:00:00   \n",
              "3               2018-10-10 00:00:00   \n",
              "4               2019-10-15 00:00:00   \n",
              "\n",
              "                       Objet social de l'association  \\\n",
              "0                                                NaN   \n",
              "1  des actions concernant la production, l'alimen...   \n",
              "2  contribuer à la gestion et à la protection de ...   \n",
              "3  promouvoir la stérilisation des chats des rues...   \n",
              "4  intervenir pénalement dans les dossiers de cru...   \n",
              "\n",
              "   Effectif de l'association (nombre de salariés)  \\\n",
              "0                                             NaN   \n",
              "1                                             NaN   \n",
              "2                                             NaN   \n",
              "3                                             NaN   \n",
              "4                                             NaN   \n",
              "\n",
              "   Montant des subventions 2021  ...  Montant des recettes 2021  \\\n",
              "0                           NaN  ...                        NaN   \n",
              "1                           NaN  ...                        NaN   \n",
              "2                           NaN  ...                        NaN   \n",
              "3                           NaN  ...                        NaN   \n",
              "4                           NaN  ...                        NaN   \n",
              "\n",
              "   Montant des dépenses 2021  Montant des recettes 2020  \\\n",
              "0                        NaN                        NaN   \n",
              "1                        NaN                        NaN   \n",
              "2                        NaN                        NaN   \n",
              "3                        NaN                        NaN   \n",
              "4                        NaN                        NaN   \n",
              "\n",
              "   Montant des dépenses 2020  Montant des recettes 2019  \\\n",
              "0                        NaN                        NaN   \n",
              "1                        NaN                        NaN   \n",
              "2                        NaN                        NaN   \n",
              "3                        NaN                        NaN   \n",
              "4                        NaN                        NaN   \n",
              "\n",
              "   Montant des dépenses 2019  Déficit / Excédent budgétaire 2021  \\\n",
              "0                        NaN                                 NaN   \n",
              "1                        NaN                                 NaN   \n",
              "2                        NaN                                 NaN   \n",
              "3                        NaN                                 NaN   \n",
              "4                        NaN                                 NaN   \n",
              "\n",
              "   Déficit / Excédent budgétaire 2020  Déficit / Excédent budgétaire 2019  \\\n",
              "0                                 NaN                                 NaN   \n",
              "1                                 NaN                                 NaN   \n",
              "2                                 NaN                                 NaN   \n",
              "3                                 NaN                                 NaN   \n",
              "4                                 NaN                                 NaN   \n",
              "\n",
              "   Déficit / Excédent budgétaire 2018  \n",
              "0                                 NaN  \n",
              "1                                 NaN  \n",
              "2                                 NaN  \n",
              "3                                 NaN  \n",
              "4                                 NaN  \n",
              "\n",
              "[5 rows x 23 columns]"
            ]
          },
          "execution_count": 4,
          "metadata": {},
          "output_type": "execute_result"
        }
      ],
      "source": [
        "df.head()\n"
      ]
    },
    {
      "cell_type": "code",
      "execution_count": null,
      "metadata": {
        "id": "jbzxSNDbKoKJ"
      },
      "outputs": [],
      "source": [
        "data['etablissement']['siret']"
      ]
    },
    {
      "cell_type": "code",
      "execution_count": null,
      "metadata": {
        "id": "uoSz6hOiyoqd"
      },
      "outputs": [],
      "source": [
        "def siret(num_rna):\n",
        "    try:\n",
        "        URL =  f\"https://entreprise.data.gouv.fr/api/sirene/v1/rna/{num_rna}\"\n",
        "        response = requests.get(url= URL)\n",
        "        response.raise_for_status()\n",
        "        data = response.json()\n",
        "        return data['etablissement']['siret']\n",
        "    except requests.HTTPError:\n",
        "        x = \" \" \n",
        "        return x\n",
        "\n"
      ]
    },
    {
      "cell_type": "code",
      "execution_count": null,
      "metadata": {
        "colab": {
          "base_uri": "https://localhost:8080/",
          "height": 35
        },
        "id": "R7C4Z0wm7W8c",
        "outputId": "7744e7a9-9f2d-4c68-a882-3f729f021a18"
      },
      "outputs": [
        {
          "data": {
            "application/vnd.google.colaboratory.intrinsic+json": {
              "type": "string"
            },
            "text/plain": [
              "'51960523200015'"
            ]
          },
          "execution_count": 9,
          "metadata": {},
          "output_type": "execute_result"
        }
      ],
      "source": [
        "#test\n",
        "siret(\"W842001268\")"
      ]
    },
    {
      "cell_type": "code",
      "execution_count": null,
      "metadata": {
        "id": "lS56vM2kyLGl"
      },
      "outputs": [],
      "source": [
        "df['N° SIRET'] = df['N° RNA'].apply(lambda x : siret(x))"
      ]
    },
    {
      "cell_type": "code",
      "execution_count": null,
      "metadata": {
        "id": "975ZV87QADK-"
      },
      "outputs": [],
      "source": [
        "df.to_excel(\"association.xlsx\")  \n"
      ]
    },
    {
      "cell_type": "markdown",
      "source": [
        "# Exemple"
      ],
      "metadata": {
        "id": "WiSvfhuWB5Ma"
      }
    },
    {
      "cell_type": "code",
      "execution_count": null,
      "metadata": {
        "colab": {
          "base_uri": "https://localhost:8080/"
        },
        "id": "Bykc6wWgL5Zs",
        "outputId": "cb1bc4da-8241-49d5-9ad7-a23f7b697830"
      },
      "outputs": [
        {
          "name": "stdout",
          "output_type": "stream",
          "text": [
            "{'etablissement': {'activite_principale': '9499Z',\n",
            "                   'activite_principale_entreprise': '9499Z',\n",
            "                   'activite_principale_entreprise_esa': None,\n",
            "                   'activite_principale_registre_metier': None,\n",
            "                   'arrondissement': '2',\n",
            "                   'canton': '09',\n",
            "                   'caractere_auxiliaire': None,\n",
            "                   'caractere_productif': None,\n",
            "                   'caractere_productif_entreprise': None,\n",
            "                   'categorie_entreprise': None,\n",
            "                   'cedex': None,\n",
            "                   'civilite': None,\n",
            "                   'code_postal': '84800',\n",
            "                   'commune': '054',\n",
            "                   'created_at': '2022-02-20T17:30:58.000+01:00',\n",
            "                   'date_creation': '20091201',\n",
            "                   'date_creation_entreprise': '200912',\n",
            "                   'date_debut_activite': '20091201',\n",
            "                   'date_ess': None,\n",
            "                   'date_introduction_base_diffusion': '200912',\n",
            "                   'date_introduction_base_diffusion_entreprise': '201601',\n",
            "                   'date_mise_a_jour': '2010-03-25T15:46:43',\n",
            "                   'date_validite_activite_principale': None,\n",
            "                   'date_validite_activite_principale_entreprise': None,\n",
            "                   'date_validite_effectif_salarie': None,\n",
            "                   'date_validite_effectif_salarie_entreprise': None,\n",
            "                   'date_validite_rubrique_niveau_entreprise_esa': None,\n",
            "                   'departement': '84',\n",
            "                   'departement_commune_siege': '84054',\n",
            "                   'departement_unite_urbaine': '84',\n",
            "                   'deuxieme_activite_secondaire_entreprise_esa': None,\n",
            "                   'email': None,\n",
            "                   'enseigne': None,\n",
            "                   'etablissement_public_cooperation_intercommunale': '248400319',\n",
            "                   'geo_adresse': '501 Route de Fontaine-de-Vaucluse 84800 '\n",
            "                                  \"L'Isle-sur-la-Sorgue\",\n",
            "                   'geo_id': '84054_1704_00501',\n",
            "                   'geo_l4': '501 RTE DE FONTAINE DE VAUCLUSE',\n",
            "                   'geo_l5': None,\n",
            "                   'geo_ligne': 'G',\n",
            "                   'geo_score': '0.97',\n",
            "                   'geo_type': 'housenumber',\n",
            "                   'id': 271913731,\n",
            "                   'indicateur_champ_publipostage': 'A',\n",
            "                   'indicateur_mise_a_jour_1': None,\n",
            "                   'indicateur_mise_a_jour_2': None,\n",
            "                   'indicateur_mise_a_jour_3': None,\n",
            "                   'indice_monoactivite_entreprise': None,\n",
            "                   'indice_repetition': None,\n",
            "                   'is_ess': None,\n",
            "                   'is_saisonnier': None,\n",
            "                   'is_siege': '1',\n",
            "                   'l1_declaree': None,\n",
            "                   'l1_normalisee': 'ANIMO TRIBU',\n",
            "                   'l2_declaree': None,\n",
            "                   'l2_normalisee': 'ME CHIOUSSE HEDOU CELINE MALASSAGNE',\n",
            "                   'l3_declaree': None,\n",
            "                   'l3_normalisee': None,\n",
            "                   'l4_declaree': '501 RTE DE FONTAINE DE VAUCLUSE',\n",
            "                   'l4_normalisee': '501 RTE DE FONTAINE DE VAUCLUSE',\n",
            "                   'l5_declaree': None,\n",
            "                   'l5_normalisee': None,\n",
            "                   'l6_declaree': \"84800 L'ISLE-SUR-LA-SORGUE\",\n",
            "                   'l6_normalisee': \"84800 L'ISLE-SUR-LA-SORGUE\",\n",
            "                   'l7_declaree': None,\n",
            "                   'l7_normalisee': None,\n",
            "                   'latitude': '43.924422',\n",
            "                   'libelle_activite_principale': 'Autres organisations '\n",
            "                                                  'fonctionnant par adhésion '\n",
            "                                                  'volontaire',\n",
            "                   'libelle_activite_principale_entreprise': 'Autres '\n",
            "                                                             'organisations '\n",
            "                                                             'fonctionnant par '\n",
            "                                                             'adhésion '\n",
            "                                                             'volontaire',\n",
            "                   'libelle_commune': \"ISLE SUR LA SORGUE (L')\",\n",
            "                   'libelle_nature_entrepreneur_individuel': None,\n",
            "                   'libelle_nature_juridique_entreprise': 'Association '\n",
            "                                                          'déclarée',\n",
            "                   'libelle_region': \"Provence-Alpes-Côte d'Azur\",\n",
            "                   'libelle_tranche_effectif_salarie': None,\n",
            "                   'libelle_tranche_effectif_salarie_entreprise': None,\n",
            "                   'libelle_voie': 'DE FONTAINE DE VAUCLUSE',\n",
            "                   'lieu_activite': None,\n",
            "                   'longitude': '5.069156',\n",
            "                   'modalite_activite_principale': None,\n",
            "                   'modalite_activite_principale_entreprise': None,\n",
            "                   'nature_activite': None,\n",
            "                   'nature_entrepreneur_individuel': None,\n",
            "                   'nature_juridique_entreprise': '9220',\n",
            "                   'nature_mise_a_jour': None,\n",
            "                   'nic': '00015',\n",
            "                   'nic_siege': '00015',\n",
            "                   'nom': None,\n",
            "                   'nom_raison_sociale': 'ANIMO TRIBU',\n",
            "                   'numero_rna': 'W842001268',\n",
            "                   'numero_unite_urbaine': '00754',\n",
            "                   'numero_voie': '501',\n",
            "                   'origine_creation': None,\n",
            "                   'participation_particuliere_production': None,\n",
            "                   'premiere_activite_secondaire_entreprise_esa': None,\n",
            "                   'prenom': None,\n",
            "                   'quatrieme_activite_secondaire_entreprise_esa': None,\n",
            "                   'region': '93',\n",
            "                   'region_siege': '93',\n",
            "                   'sigle': None,\n",
            "                   'siren': '519605232',\n",
            "                   'siret': '51960523200015',\n",
            "                   'statut_prospection': None,\n",
            "                   'taille_unite_urbaine': '7',\n",
            "                   'tranche_chiffre_affaire_entreprise_esa': None,\n",
            "                   'tranche_commune_detaillee': '32',\n",
            "                   'tranche_effectif_salarie': None,\n",
            "                   'tranche_effectif_salarie_centaine_pret': None,\n",
            "                   'tranche_effectif_salarie_entreprise': None,\n",
            "                   'tranche_effectif_salarie_entreprise_centaine_pret': None,\n",
            "                   'troisieme_activite_secondaire_entreprise_esa': None,\n",
            "                   'type_magasin': None,\n",
            "                   'type_voie': 'RTE',\n",
            "                   'updated_at': '2022-02-20T17:30:58.000+01:00',\n",
            "                   'zone_emploi': '59'}}\n"
          ]
        }
      ],
      "source": [
        "from pprint import pprint\n",
        "import requests\n",
        "\n",
        "URL =  \"https://entreprise.data.gouv.fr/api/sirene/v1/rna/W842001268\"\n",
        "response = requests.get(url= URL)\n",
        "response.raise_for_status()\n",
        "data = response.json()\n",
        "pprint(data)"
      ]
    }
  ],
  "metadata": {
    "colab": {
      "collapsed_sections": [
        "WiSvfhuWB5Ma"
      ],
      "name": "Association_api_siret.ipynb",
      "provenance": [],
      "authorship_tag": "ABX9TyMwLrTUIBBqlXq1ehqp5PmA",
      "include_colab_link": true
    },
    "kernelspec": {
      "display_name": "Python 3",
      "name": "python3"
    },
    "language_info": {
      "name": "python"
    }
  },
  "nbformat": 4,
  "nbformat_minor": 0
}